{
 "cells": [
  {
   "cell_type": "code",
   "execution_count": null,
   "metadata": {
    "collapsed": true
   },
   "outputs": [],
   "source": [
    "import func_text_gen as f"
   ]
  },
  {
   "cell_type": "code",
   "execution_count": null,
   "metadata": {
    "collapsed": true
   },
   "outputs": [],
   "source": [
    "Yeats_poems, Yeats_title = f.split_data('Poems/Yeats.txt')\n",
    "Emily_poems, Emily_title = f.split_data('Poems/Emily_Dickinson.txt')\n",
    "Gibran_poems, Gibran_title = f.split_data('Poems/Gibran.txt')"
   ]
  },
  {
   "cell_type": "code",
   "execution_count": null,
   "metadata": {
    "collapsed": true
   },
   "outputs": [],
   "source": [
    "yeats = pd.DataFrame({'poems':Yeats_poems,'title':Yeats_title})\n",
    "emily = pd.DataFrame({'poems':Emily_poems,'title':Emily_title})\n",
    "gibran = pd.DataFrame({'poems':Gibran_poems,'title':Gibran_title})"
   ]
  },
  {
   "cell_type": "code",
   "execution_count": null,
   "metadata": {
    "collapsed": true
   },
   "outputs": [],
   "source": [
    "df = f.pd.read_csv(\"all.csv\")\n",
    "df['content'] = df['content'].str.lower()\n",
    "df.rename(columns={'content':'poems','poem name': 'title'}, inplace=True)"
   ]
  },
  {
   "cell_type": "code",
   "execution_count": null,
   "metadata": {
    "collapsed": true
   },
   "outputs": [],
   "source": [
    "all_df = [df,yeats, gibran, emily]\n",
    "new_df = f.pd.concat(all_df)\n",
    "new_df[\"poems\"] = new_df['poems'].str.lower()"
   ]
  },
  {
   "cell_type": "code",
   "execution_count": null,
   "metadata": {
    "collapsed": true
   },
   "outputs": [],
   "source": [
    "### Insert documents in a MongoDB database\n",
    "\n",
    "from pymongo import MongoClient\n",
    "\n",
    "client = MongoClient()\n",
    "db = client.all_poems\n",
    "collection = db.new_files\n",
    "collection.insert_many(new_df.to_dict('records'))"
   ]
  },
  {
   "cell_type": "markdown",
   "metadata": {},
   "source": [
    "### Shows 10 topics present in the text"
   ]
  },
  {
   "cell_type": "code",
   "execution_count": null,
   "metadata": {
    "collapsed": true
   },
   "outputs": [],
   "source": [
    "gen= collection.find()\n",
    "f.topic_modeling(gen, n_components=10)"
   ]
  },
  {
   "cell_type": "markdown",
   "metadata": {},
   "source": [
    "### Labels of pattern are formed. Model Architecture is also defined"
   ]
  },
  {
   "cell_type": "code",
   "execution_count": null,
   "metadata": {
    "collapsed": true
   },
   "outputs": [],
   "source": [
    "gen = collection.find()\n",
    "X_modified, Y_modified, X, characters = f.pattern_and_label(gen, seq_length=100)\n",
    "model_arch = f.model_generation(X_modified, Y_modified, size=700)"
   ]
  },
  {
   "cell_type": "markdown",
   "metadata": {},
   "source": [
    "### Fits the model to the training and labels"
   ]
  },
  {
   "cell_type": "code",
   "execution_count": null,
   "metadata": {
    "collapsed": true
   },
   "outputs": [],
   "source": [
    "fit_model = f.model_fit(model_arch, X_modified, Y_modified, epochs=5)"
   ]
  },
  {
   "cell_type": "markdown",
   "metadata": {},
   "source": [
    "### Generates 500 new characters after a random seed"
   ]
  },
  {
   "cell_type": "code",
   "execution_count": null,
   "metadata": {
    "collapsed": true
   },
   "outputs": [],
   "source": [
    "f.text_generator(X, fit_model, characters=characters, num_characters=500)"
   ]
  },
  {
   "cell_type": "markdown",
   "metadata": {},
   "source": [
    "### Check the sentiment of the poem generated"
   ]
  },
  {
   "cell_type": "code",
   "execution_count": null,
   "metadata": {
    "collapsed": true
   },
   "outputs": [],
   "source": [
    "s = text_generator(X, fit_model, characters=characters, num_characters=500)\n",
    "from nltk.sentiment.vader import SentimentIntensityAnalyzer\n",
    "sid = SentimentIntensityAnalyzer()\n",
    "pol = sid.polarity_scores(s)\n",
    "pol"
   ]
  }
 ],
 "metadata": {
  "kernelspec": {
   "display_name": "Python 3",
   "language": "python",
   "name": "python3"
  },
  "language_info": {
   "codemirror_mode": {
    "name": "ipython",
    "version": 3
   },
   "file_extension": ".py",
   "mimetype": "text/x-python",
   "name": "python",
   "nbconvert_exporter": "python",
   "pygments_lexer": "ipython3",
   "version": "3.6.1"
  }
 },
 "nbformat": 4,
 "nbformat_minor": 2
}
